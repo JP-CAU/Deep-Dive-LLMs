{
  "cells": [
    {
      "cell_type": "markdown",
      "id": "b47a3e9b",
      "metadata": {
        "id": "b47a3e9b"
      },
      "source": [
        "# Notebook with addtional approach\n",
        "\n",
        "We build a kNN classifier that classifies strings based on the neighboorhod in an embedding space"
      ]
    },
    {
      "cell_type": "markdown",
      "id": "a0e0918b-329b-4f23-89af-5dc7e0b8c245",
      "metadata": {
        "id": "a0e0918b-329b-4f23-89af-5dc7e0b8c245"
      },
      "source": [
        "## Imports"
      ]
    },
    {
      "cell_type": "code",
      "source": [
        "!pip install sentence-transformers"
      ],
      "metadata": {
        "id": "RUwHAq8IF-YI"
      },
      "id": "RUwHAq8IF-YI",
      "execution_count": null,
      "outputs": []
    },
    {
      "cell_type": "code",
      "source": [
        "!pip install langchain"
      ],
      "metadata": {
        "id": "vHJYoBgcEMYD"
      },
      "id": "vHJYoBgcEMYD",
      "execution_count": null,
      "outputs": []
    },
    {
      "cell_type": "code",
      "source": [
        "!pip install faiss-gpu"
      ],
      "metadata": {
        "id": "8OS-eU4-J8Tm"
      },
      "id": "8OS-eU4-J8Tm",
      "execution_count": null,
      "outputs": []
    },
    {
      "cell_type": "code",
      "execution_count": null,
      "id": "26ee95e2-bfe9-4a76-bb4e-9611ce240e1a",
      "metadata": {
        "id": "26ee95e2-bfe9-4a76-bb4e-9611ce240e1a"
      },
      "outputs": [],
      "source": [
        "import pandas as pd\n",
        "import numpy as np\n",
        "from langchain.vectorstores import FAISS\n",
        "from langchain.embeddings import HuggingFaceEmbeddings\n",
        "from langchain.schema import Document\n",
        "from tqdm import tqdm\n",
        "from collections import Counter\n",
        "import matplotlib.pyplot as plt\n",
        "import seaborn as sns\n",
        "from sklearn.metrics import confusion_matrix\n",
        "from sklearn.metrics import accuracy_score\n",
        "from sklearn.metrics import f1_score\n",
        "from sklearn.datasets import fetch_20newsgroups\n",
        "from tqdm import tqdm"
      ]
    },
    {
      "cell_type": "markdown",
      "id": "e9157dab-d732-41bf-b529-71b15410c3f7",
      "metadata": {
        "id": "e9157dab-d732-41bf-b529-71b15410c3f7"
      },
      "source": [
        "## Load data\n",
        "- The 20 Newsgroup dataset is a famous dataset for NLP Tasks however we want you to experiment with your own datasets\n",
        "- If you dont have a dataset in mind ask Chat GPT to generate one"
      ]
    },
    {
      "cell_type": "code",
      "execution_count": null,
      "id": "fd32cfe2-ea37-48fd-b73e-034460e385df",
      "metadata": {
        "id": "fd32cfe2-ea37-48fd-b73e-034460e385df"
      },
      "outputs": [],
      "source": [
        "newsgroups = fetch_20newsgroups(subset='test', remove=('headers', 'footers', 'quotes'))"
      ]
    },
    {
      "cell_type": "markdown",
      "source": [
        "### Inspect one sample"
      ],
      "metadata": {
        "id": "If6hswScNqDm"
      },
      "id": "If6hswScNqDm"
    },
    {
      "cell_type": "code",
      "source": [
        "print(f\"Article: {newsgroups.data[0]}\")\n",
        "print(f\"\\n Category: {newsgroups.target_names[newsgroups.target[0]]}\")"
      ],
      "metadata": {
        "colab": {
          "base_uri": "https://localhost:8080/"
        },
        "id": "lEX6c2IONpYX",
        "outputId": "2dcadd77-193e-4b83-9226-d5123d50e946"
      },
      "id": "lEX6c2IONpYX",
      "execution_count": null,
      "outputs": [
        {
          "output_type": "stream",
          "name": "stdout",
          "text": [
            "Article: I am a little confused on all of the models of the 88-89 bonnevilles.\n",
            "I have heard of the LE SE LSE SSE SSEI. Could someone tell me the\n",
            "differences are far as features or performance. I am also curious to\n",
            "know what the book value is for prefereably the 89 model. And how much\n",
            "less than book value can you usually get them for. In other words how\n",
            "much are they in demand this time of year. I have heard that the mid-spring\n",
            "early summer is the best time to buy.\n",
            "\n",
            " Category: rec.autos\n"
          ]
        }
      ]
    },
    {
      "cell_type": "markdown",
      "id": "18268c4f-a7bc-4170-bd13-d30883d436fb",
      "metadata": {
        "id": "18268c4f-a7bc-4170-bd13-d30883d436fb"
      },
      "source": [
        "## Create Documents with Langchain"
      ]
    },
    {
      "cell_type": "code",
      "execution_count": null,
      "id": "68bc78a9-6957-4625-906d-f36057d1d78e",
      "metadata": {
        "colab": {
          "base_uri": "https://localhost:8080/"
        },
        "id": "68bc78a9-6957-4625-906d-f36057d1d78e",
        "outputId": "892ea3f3-d54a-4fce-b129-b24adc9b5e46"
      },
      "outputs": [
        {
          "output_type": "stream",
          "name": "stderr",
          "text": [
            "100%|██████████| 7532/7532 [00:00<00:00, 103194.32it/s]\n"
          ]
        }
      ],
      "source": [
        "# If you use your own dataset you will have to adapt this\n",
        "# Note that the metadata is optional and can be left empty if your text doesnt contain any sort of labels\n",
        "documents = [Document(page_content=newsgroups.data[i], metadata={\"category\":newsgroups.target_names[newsgroups.target[i]]}) for i in tqdm(range(len(list(newsgroups.data))))]"
      ]
    },
    {
      "cell_type": "markdown",
      "id": "74d08add-c405-4949-b7c6-e39a841a65ab",
      "metadata": {
        "id": "74d08add-c405-4949-b7c6-e39a841a65ab"
      },
      "source": [
        "## Build Knowledge base with embeddings\n",
        "- go to [HuggingFace](https://huggingface.co/spaces/mteb/leaderboard) to check out the latest and greatest embedding models\n",
        "- Try models with different embedding sizes and compare the results"
      ]
    },
    {
      "cell_type": "code",
      "execution_count": null,
      "id": "07b4a919-5153-4993-9749-85e13ed66273",
      "metadata": {
        "id": "07b4a919-5153-4993-9749-85e13ed66273"
      },
      "outputs": [],
      "source": [
        "embeddings = HuggingFaceEmbeddings(model_name=\"BAAI/bge-large-en\")"
      ]
    },
    {
      "cell_type": "markdown",
      "source": [
        "### First you have to build a vectorstore from the documents"
      ],
      "metadata": {
        "id": "57nDYRwIOwv5"
      },
      "id": "57nDYRwIOwv5"
    },
    {
      "cell_type": "code",
      "source": [
        "knowledge_base = FAISS.from_documents(documents, embeddings)\n",
        "knowledge_base.save_local(\"knowledge_base_20_newsgroup\")"
      ],
      "metadata": {
        "id": "2VIfKpzCOWcd"
      },
      "id": "2VIfKpzCOWcd",
      "execution_count": null,
      "outputs": []
    },
    {
      "cell_type": "markdown",
      "source": [
        "### If you have already built the vector store you can simply load it"
      ],
      "metadata": {
        "id": "0yCNoUfxO0h8"
      },
      "id": "0yCNoUfxO0h8"
    },
    {
      "cell_type": "code",
      "source": [
        "test = FAISS.load_local(\"knowledge_base_20_newsgroup\", embeddings)"
      ],
      "metadata": {
        "id": "lqPtiNlhOXqs"
      },
      "id": "lqPtiNlhOXqs",
      "execution_count": null,
      "outputs": []
    },
    {
      "cell_type": "markdown",
      "source": [
        "## Experiment with some queries"
      ],
      "metadata": {
        "id": "HBvmD1UqO5_t"
      },
      "id": "HBvmD1UqO5_t"
    },
    {
      "cell_type": "code",
      "source": [
        "query = \"Is the earth flat?\"\n",
        "k = 10\n",
        "result = knowledge_base.similarity_search_with_score(query, k=k)\n",
        "for doc in result:\n",
        "  print(doc[0])"
      ],
      "metadata": {
        "colab": {
          "base_uri": "https://localhost:8080/"
        },
        "id": "8_aNq4lsJik6",
        "outputId": "c56dd947-628d-4b2b-91b6-d5f6a4ef2a82"
      },
      "id": "8_aNq4lsJik6",
      "execution_count": null,
      "outputs": [
        {
          "output_type": "stream",
          "name": "stdout",
          "text": [
            "page_content='\\nThe variance from perfect sphericity in a model of the earth small enough\\nto fit into your home would probably be imperceptible.\\n\\nAny globe you can buy will be close enough.\\n\\n\\n\\n\\n-- ' metadata={'category': 'sci.space'}\n",
            "page_content='\\n    What do you accept as a fact --  the roundness of the earth (after \\nall, the ancient Greeks thought it was a sphere, and then Newton said \\nit was a spheroid, and now people say it\\'s a geoid [?])?  yourself \\n(isn\\'t your personal identity just a theoretical construct to make \\nsense of memories, feelings, perceptions)?  I\\'m trying to think of \\nanything that would be a fact for you.  Give some examples, and let\\'s\\nsee how factual they are by your criteria (BTW, what are your\\ncriteria?).\\n\\n    \"Gravity is _not_ a fact\": is that a fact?  How about Newton\\'s \\nand Einstein\\'s thoughts about gravity -- is it a fact that they had \\nthose thoughts?  I don\\'t see how any of the things that you are \\nasserting are any more factual than things like gravity, atoms or \\nevolution.\\n\\n    In short, before I am willing to consider your concept of what\\na fact is, I\\'m going to have to have, as a minimum, some examples of\\nwhat you think are facts.\\n' metadata={'category': 'alt.atheism'}\n",
            "page_content=\"\\n(WITH-COUNTERFLAME-ENABLED\\n\\n Columbus was indeed a crank, but not in the manner you think.\\n\\n The fact that the world was round was well known when he set sail.  It was\\n also well known that the circumference was about 25K miles, and that you could\\n not reach Asia bo going west with current technology -- you would neither be\\n able to carry enough supplies, nor get a long enough stretch of good sailing\\n weather.  Nobody thought he would fall off the edge of the world.  Instead,\\n they expected him to die at sea.\\n\\n Columbus thought for no good reason that the circumference was only 16K miles,\\n making the trip practical.\\n\\n Unfortunately for Columbus and his shipmates, the Earth's circumference is\\n indeed 25K miles.\\n\\n Fortunately for Columbus and his shipmates, there was a stopping place right\\n about where Asia would have been had the circumference been 16K miles.\\n\\n\\n My source is the recent PBS series on Columbus.\\n\\n)\" metadata={'category': 'sci.med'}\n",
            "page_content=\"\\n\\nI think C.S. Lewis has argued that medieval people did not all think the\\nworld is flat.\\n\\nHowever, this argument goes both ways. Pretend someone telling Plato that\\nit is highly probable that people do not really have souls; their minds\\nand their consciousness are just something their brains make up, and\\ntheir brains (their body) is actually ahead of their mind even in \\nvoluntarly actions. I don't think Plato would have been happy with this,\\nand neither would Paul, although Paul's ideas were quite different.\\nHowever, if you would _read_ what we discuss in this group, and not\\njust preach, you would see that there currently is much evidence in\\nfavour of these statements.\\n\\nThe same applies to the theory of natural selection, or other sacred\\ncows of Christianity on our origins and human nature. I don't believe\\nin spirits, devils or immortal souls any more than in gods.\\n\\n\\nAh, you said it. You believe what you want to. This is what I had assumed\\nall along. \\n\\n\\nYou might be as well planting Satan's seeds, ever thought of this?\\nBesides, you haven't yet explained why we must believe so blindly,\\nwithout any guiding light at all (at least I haven't noticed it).\\nI don't think this is at all fair play on god's part. \\n\\nYour argument sounds like a version of Pascal's Wager. Please read the\\nFAQ, this fallacy is discussed there.\\n\\n\\nAnd I failed to get help from the HS because I had a wrong attitude?\\nSorry, Dan, but I do not think this spirit exists. People who claim to have\\naccess to it just look badly deluded, not gifted. \\n\\nPetri\\n\\n\" metadata={'category': 'alt.atheism'}\n",
            "page_content=\"\\n\\tExcuse me? Quality? As in grade A CO2 and grade B CO2? I may not have\\nthis quite right but I was under the impression that CO2 was CO2.\\n\\n Furthermore, \\n\\n\\tA) There is no reason to believe this system is inherently stable- \\nThe Ice ages occured without any help from humans.\\n\\n\\tB) The point was that the human contribution of CO2 and other \\ngreenhouse gasses is insignificant and it won't really make a difference if\\nwe make more or less.\\n\\n\\tC) What overwhelming data? I see lots of 'projections' of the future,\\nwhich is fascinating, considering they can't predict the weather two weeks\\nin advance.\" metadata={'category': 'talk.politics.misc'}\n",
            "page_content=\"\\nIt's not quite what you were asking, but a few years ago I helped some EE\\nremote sensing people run some experiments on the microwave emmissivity of\\nice; they used the sky for a background calibration source.  They said that\\nfrom Earth's surface the sky looks like a 60K blackbody.\\n\" metadata={'category': 'sci.space'}\n",
            "page_content=\". . . David gives good explaination of the deductions from the isotropic,\\n'edged' distribution, to whit, they are either part of the Universe or\\npart of the Oort cloud.\\n\\nWhy couldn't they be Earth centred, with the edge occuring at the edge\\nof the gravisphere? I know there isn't any mechanism for them, but there\\nisn't a mechanism for the others either.\" metadata={'category': 'sci.space'}\n",
            "page_content='\\n\\nEven if they did, a globe at a scale that you could fit into your average room\\nor even average \"hall\" the deviations you mention would not be visually\\nevident. In other words a micrometer would be required to test the fact that \\nthe Globe was infact pear-shaped.  \\n\\nRegards Scott.\\n_______________________________________________________________________________\\nScott Fisher [scott@psy.uwa.oz.au]  PH: Aus [61] Perth (09) Local (380 3272).                \\n                                                             _--_|\\\\       N\\nDepartment of Psychology                                    /      \\\\    W + E\\nUniversity of Western Australia.      Perth [32S, 116E]-->  *_.--._/      S\\nNedlands, 6009.  PERTH, W.A.                                      v       \\n\\n    *** ERROR 144 - REBOOT? is a registered trademark of ENSONIQ Corp ***' metadata={'category': 'sci.space'}\n",
            "page_content='\\nPerhaps you have a different understanding of what \"physics\" is.  If we\\ncan\\'t measure anything objectively, then the answers we get from physics\\naren\\'t objective either.  That\\'s what I mean when I say there\\'s no objective\\nphysics.\\n\\nSure, we can all agree that (say) F = GMm/r^2, but that\\'s maths.  It\\'s only\\nphysics when you relate it to the real world, and if we can\\'t do that\\nobjectively, we\\'re stuck.  (Of course, this displays my blatant bias towards\\napplied science; but even theoretical physics gets applied to models of real\\nworld situations, based on real world observations.)\\n\\n\\nIt\\'s an axiom that it\\'s invariant.  But if the two of us measure it, we\\'ll\\nget different answers.  Yes, we call that experimental error, but it\\'s not\\nreally \"error\" in the conventional sense; in fact, if you don\\'t get any,\\nthat\\'s an error :-)\\n\\nYou could argue that the value of c is \"objective, to within +/- <some\\nvalue>\".  But I\\'d call that a rather odd usage of the word \"objective\", and\\nit opens the way for statements like \"Murder is objectively wrong for all\\npeople, to within 1% of the total population.\"\\n' metadata={'category': 'alt.atheism'}\n",
            "page_content=\"\\nI don't know what you mean by 'edged', but surely there are two other\\npossibilities for an isotropic distribution: near interstellar (up to\\n~100 pc, i.e. within the disc), or the Galaxy's corona?\\n\\n\" metadata={'category': 'sci.space'}\n"
          ]
        }
      ]
    },
    {
      "cell_type": "code",
      "execution_count": null,
      "id": "60509dfc-d692-4130-87c9-2a428b261686",
      "metadata": {
        "id": "60509dfc-d692-4130-87c9-2a428b261686"
      },
      "outputs": [],
      "source": []
    }
  ],
  "metadata": {
    "kernelspec": {
      "display_name": "Python 3",
      "name": "python3"
    },
    "language_info": {
      "codemirror_mode": {
        "name": "ipython",
        "version": 3
      },
      "file_extension": ".py",
      "mimetype": "text/x-python",
      "name": "python",
      "nbconvert_exporter": "python",
      "pygments_lexer": "ipython3",
      "version": "3.10.6"
    },
    "colab": {
      "provenance": [],
      "collapsed_sections": [
        "a0e0918b-329b-4f23-89af-5dc7e0b8c245"
      ],
      "gpuType": "T4"
    },
    "accelerator": "GPU"
  },
  "nbformat": 4,
  "nbformat_minor": 5
}